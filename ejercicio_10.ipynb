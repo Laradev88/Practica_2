{
 "cells": [
  {
   "attachments": {},
   "cell_type": "markdown",
   "id": "68ca0cad-3dc6-40bc-8a50-819076338d00",
   "metadata": {},
   "source": [
    "# Ejercicio 10"
   ]
  },
  {
   "cell_type": "markdown",
   "id": "36c6c156-f995-4143-9e03-5c8640badb5b",
   "metadata": {},
   "source": [
    "Importo el modulo calculadora donde estan las funciones a utilizar."
   ]
  },
  {
   "cell_type": "code",
   "execution_count": 1,
   "id": "66dcb035-57ec-43c6-9942-bf80777b15bf",
   "metadata": {},
   "outputs": [],
   "source": [
    "import calculadora "
   ]
  },
  {
   "cell_type": "markdown",
   "id": "6024b59c-3512-4ade-8dfc-7674c5d53542",
   "metadata": {},
   "source": [
    "Creo las variables con las estadisticas de los jugadores"
   ]
  },
  {
   "cell_type": "code",
   "execution_count": 2,
   "id": "3c0e356b-21b6-450a-8d3c-cd24880fd501",
   "metadata": {},
   "outputs": [],
   "source": [
    "names = \"\"\" Agustin, Yanina, Andrés, Ariadna, Bautista, CAROLINA,\n",
    "CESAR, David, Diego, Dolores, DYLAN, ELIANA, Emanuel, Fabián, Noelia,\n",
    "Francsica', FEDERICO, Fernanda, GONZALO, Nancy \"\"\"\n",
    "goals = [0, 10, 4, 0, 5, 14, 0, 0, 7, 2, 1, 1, 1, 5, 6, 1, 1, 2, 0,\n",
    "11]\n",
    "goals_avoided = [0, 2, 0, 0, 5, 2, 0, 0, 1, 2, 0, 5, 5, 0, 1, 0, 2,\n",
    "3, 0, 0]\n",
    "assists = [0, 5, 1, 0, 5, 2, 0, 0, 1, 2, 1, 5, 5, 0, 1, 0, 2, 3, 1,\n",
    "0]"
   ]
  },
  {
   "attachments": {},
   "cell_type": "markdown",
   "id": "9d8d6758-0a05-4340-8971-ab78c7ad0809",
   "metadata": {},
   "source": [
    "## 1. Generar una estructura todas las estadísticas asociadas a cada jugador o jugadora."
   ]
  },
  {
   "cell_type": "markdown",
   "id": "59d6e25f-d20c-49c2-9c46-cb9c8d9506ac",
   "metadata": {},
   "source": [
    "Quito las comas del string \"names\""
   ]
  },
  {
   "cell_type": "code",
   "execution_count": 3,
   "id": "fa0e5a82-c710-496f-8e18-45595e553659",
   "metadata": {},
   "outputs": [],
   "source": [
    "names_clean = names.replace(\",\", \"\")"
   ]
  },
  {
   "cell_type": "markdown",
   "id": "68d6a27d-58d3-40a0-9e08-156afa5d00c6",
   "metadata": {},
   "source": [
    "Para esta consigna utlizo la funcion `create_dict()` del modulo calculadora"
   ]
  },
  {
   "cell_type": "code",
   "execution_count": 4,
   "id": "dee1db4d-395a-4a79-987e-0ecf0fccc378",
   "metadata": {},
   "outputs": [],
   "source": [
    "players = calculadora.create_dict(names_clean,goals,goals_avoided,assists)"
   ]
  },
  {
   "cell_type": "markdown",
   "id": "fde85693-6848-4995-a82b-3f3c60398e22",
   "metadata": {},
   "source": [
    "La estructura queda asi:"
   ]
  },
  {
   "cell_type": "code",
   "execution_count": 5,
   "id": "758dc7d7-f9ad-4c4d-9127-bdfba6d42442",
   "metadata": {},
   "outputs": [
    {
     "data": {
      "text/plain": [
       "{'Agustin': (0, 0, 0),\n",
       " 'Yanina': (10, 2, 5),\n",
       " 'Andrés': (4, 0, 1),\n",
       " 'Ariadna': (0, 0, 0),\n",
       " 'Bautista': (5, 5, 5),\n",
       " 'CAROLINA': (14, 2, 2),\n",
       " 'CESAR': (0, 0, 0),\n",
       " 'David': (0, 0, 0),\n",
       " 'Diego': (7, 1, 1),\n",
       " 'Dolores': (2, 2, 2),\n",
       " 'DYLAN': (1, 0, 1),\n",
       " 'ELIANA': (1, 5, 5),\n",
       " 'Emanuel': (1, 5, 5),\n",
       " 'Fabián': (5, 0, 0),\n",
       " 'Noelia': (6, 1, 1),\n",
       " \"Francsica'\": (1, 0, 0),\n",
       " 'FEDERICO': (1, 2, 2),\n",
       " 'Fernanda': (2, 3, 3),\n",
       " 'GONZALO': (0, 0, 1),\n",
       " 'Nancy': (11, 0, 0)}"
      ]
     },
     "execution_count": 5,
     "metadata": {},
     "output_type": "execute_result"
    }
   ],
   "source": [
    "players"
   ]
  },
  {
   "cell_type": "markdown",
   "id": "d032405e-acbf-4d21-930f-c2dfa24cf5cb",
   "metadata": {},
   "source": [
    "## 2. Conocer el nombre y la cantidad de goles del goleador o goleadora.\n"
   ]
  },
  {
   "cell_type": "markdown",
   "id": "a1bc8e00-0e58-41f5-a60e-5d61f09a62a6",
   "metadata": {},
   "source": [
    "utilizo `get_scorer` para obtener el nombre del goleador/a del equipo y sus goles."
   ]
  },
  {
   "cell_type": "code",
   "execution_count": 6,
   "id": "1a67c6d5-fc0c-4b4a-9532-465bf84035b0",
   "metadata": {},
   "outputs": [
    {
     "name": "stdout",
     "output_type": "stream",
     "text": [
      "El goleador/a del equipo es CAROLINA con 14 goles\n"
     ]
    }
   ],
   "source": [
    "scorer, scorer_goals = calculadora.get_scorer(players)\n",
    "\n",
    "print(f\"El goleador/a del equipo es {scorer} con {scorer_goals} goles\")"
   ]
  },
  {
   "cell_type": "markdown",
   "id": "0f3efb37-0c01-49b2-b326-cf15925ff5fa",
   "metadata": {},
   "source": [
    "## 3. Conocer el nombre del jugador o jugadora más influyente, esto se consigue sumando goles a favor, goles evitados y cantidad de asistencias. La particularidad es que los goles a favor, evitados y las asistencias NO valen lo mismo.\n",
    "\n",
    "* goles a favor = 1.5\n",
    "* goles evitados = 1.25\n",
    "* asistencias = 1"
   ]
  },
  {
   "cell_type": "code",
   "execution_count": 7,
   "id": "d2a039d2-9077-4f53-8987-35a1267aa7a7",
   "metadata": {},
   "outputs": [
    {
     "name": "stdout",
     "output_type": "stream",
     "text": [
      "El jugador/a mas influyente es: CAROLINA\n"
     ]
    }
   ],
   "source": [
    "most_influential = calculadora.best_performance(players)\n",
    "\n",
    "print(f\"El jugador/a mas influyente es: {most_influential}\")"
   ]
  },
  {
   "cell_type": "markdown",
   "id": "7afb9bb9-05d5-4c44-bceb-5d7aed01c5f1",
   "metadata": {},
   "source": [
    "## 4. Conocer el promedio de goles por partido del equipo en general. Dato: Se jugaron 25 partidos en la temporada.\n"
   ]
  },
  {
   "cell_type": "code",
   "execution_count": 8,
   "id": "1c60658d-a9cf-48cb-b9c6-3931051e12ff",
   "metadata": {},
   "outputs": [
    {
     "name": "stdout",
     "output_type": "stream",
     "text": [
      "El promedio de goles por partidos del equipo es: 2.84\n"
     ]
    }
   ],
   "source": [
    "team_average = calculadora.goal_average(goals)\n",
    "\n",
    "print(f\"El promedio de goles por partidos del equipo es: {team_average}\")"
   ]
  },
  {
   "cell_type": "code",
   "execution_count": null,
   "id": "c74dd585-8e3b-4c52-9694-9183b30dd48c",
   "metadata": {},
   "outputs": [],
   "source": []
  }
 ],
 "metadata": {
  "kernelspec": {
   "display_name": "Python 3 (ipykernel)",
   "language": "python",
   "name": "python3"
  },
  "language_info": {
   "codemirror_mode": {
    "name": "ipython",
    "version": 3
   },
   "file_extension": ".py",
   "mimetype": "text/x-python",
   "name": "python",
   "nbconvert_exporter": "python",
   "pygments_lexer": "ipython3",
   "version": "3.11.2"
  }
 },
 "nbformat": 4,
 "nbformat_minor": 5
}
