{
 "cells": [
  {
   "attachments": {},
   "cell_type": "markdown",
   "id": "68ca0cad-3dc6-40bc-8a50-819076338d00",
   "metadata": {},
   "source": [
    "# Ejercicio 10"
   ]
  },
  {
   "cell_type": "markdown",
   "id": "36c6c156-f995-4143-9e03-5c8640badb5b",
   "metadata": {},
   "source": [
    "Importo el modulo calculadora donde estan las funciones a utilizar."
   ]
  },
  {
   "cell_type": "code",
   "execution_count": 1,
   "id": "66dcb035-57ec-43c6-9942-bf80777b15bf",
   "metadata": {},
   "outputs": [],
   "source": [
    "import calculadora "
   ]
  },
  {
   "cell_type": "markdown",
   "id": "6024b59c-3512-4ade-8dfc-7674c5d53542",
   "metadata": {},
   "source": [
    "Creo las variables con las estadisticas de los jugadores"
   ]
  },
  {
   "cell_type": "code",
   "execution_count": 2,
   "id": "3c0e356b-21b6-450a-8d3c-cd24880fd501",
   "metadata": {},
   "outputs": [],
   "source": [
    "names = \"\"\" Agustin, Yanina, Andrés, Ariadna, Bautista, CAROLINA,\n",
    "CESAR, David, Diego, Dolores, DYLAN, ELIANA, Emanuel, Fabián, Noelia,\n",
    "Francsica', FEDERICO, Fernanda, GONZALO, Nancy \"\"\"\n",
    "goals = [0, 10, 4, 0, 5, 14, 0, 0, 7, 2, 1, 1, 1, 5, 6, 1, 1, 2, 0,\n",
    "11]\n",
    "goals_avoided = [0, 2, 0, 0, 5, 2, 0, 0, 1, 2, 0, 5, 5, 0, 1, 0, 2,\n",
    "3, 0, 0]\n",
    "assists = [0, 5, 1, 0, 5, 2, 0, 0, 1, 2, 1, 5, 5, 0, 1, 0, 2, 3, 1,\n",
    "0]"
   ]
  },
  {
   "attachments": {},
   "cell_type": "markdown",
   "id": "9d8d6758-0a05-4340-8971-ab78c7ad0809",
   "metadata": {},
   "source": [
    "## 1. Generar una estructura todas las estadísticas asociadas a cada jugador o jugadora."
   ]
  },
  {
   "cell_type": "markdown",
   "id": "59d6e25f-d20c-49c2-9c46-cb9c8d9506ac",
   "metadata": {},
   "source": [
    "Quito las comas del string \"names\""
   ]
  },
  {
   "cell_type": "code",
   "execution_count": 3,
   "id": "fa0e5a82-c710-496f-8e18-45595e553659",
   "metadata": {},
   "outputs": [],
   "source": [
    "names_clean = names.replace(\",\", \"\")"
   ]
  },
  {
   "cell_type": "markdown",
   "id": "68d6a27d-58d3-40a0-9e08-156afa5d00c6",
   "metadata": {},
   "source": [
    "Para esta consigna utlizo la funcion `create_dict()` del modulo calculadora"
   ]
  },
  {
   "cell_type": "code",
   "execution_count": 4,
   "id": "dee1db4d-395a-4a79-987e-0ecf0fccc378",
   "metadata": {},
   "outputs": [
    {
     "data": {
      "text/plain": [
       "{'Agustin': (0, 0, 0),\n",
       " 'Yanina': (10, 2, 5),\n",
       " 'Andrés': (4, 0, 1),\n",
       " 'Ariadna': (0, 0, 0),\n",
       " 'Bautista': (5, 5, 5),\n",
       " 'CAROLINA': (14, 2, 2),\n",
       " 'CESAR': (0, 0, 0),\n",
       " 'David': (0, 0, 0),\n",
       " 'Diego': (7, 1, 1),\n",
       " 'Dolores': (2, 2, 2),\n",
       " 'DYLAN': (1, 0, 1),\n",
       " 'ELIANA': (1, 5, 5),\n",
       " 'Emanuel': (1, 5, 5),\n",
       " 'Fabián': (5, 0, 0),\n",
       " 'Noelia': (6, 1, 1),\n",
       " \"Francsica'\": (1, 0, 0),\n",
       " 'FEDERICO': (1, 2, 2),\n",
       " 'Fernanda': (2, 3, 3),\n",
       " 'GONZALO': (0, 0, 1),\n",
       " 'Nancy': (11, 0, 0)}"
      ]
     },
     "execution_count": 4,
     "metadata": {},
     "output_type": "execute_result"
    }
   ],
   "source": [
    "players = calculadora.create_dict(names_clean,goals,goals_avoided,assists)\n",
    "players"
   ]
  },
  {
   "cell_type": "code",
   "execution_count": null,
   "id": "f43f0387-4975-42e5-9d39-7e02f3469aab",
   "metadata": {},
   "outputs": [],
   "source": []
  }
 ],
 "metadata": {
  "kernelspec": {
   "display_name": "Python 3 (ipykernel)",
   "language": "python",
   "name": "python3"
  },
  "language_info": {
   "codemirror_mode": {
    "name": "ipython",
    "version": 3
   },
   "file_extension": ".py",
   "mimetype": "text/x-python",
   "name": "python",
   "nbconvert_exporter": "python",
   "pygments_lexer": "ipython3",
   "version": "3.11.2"
  }
 },
 "nbformat": 4,
 "nbformat_minor": 5
}
